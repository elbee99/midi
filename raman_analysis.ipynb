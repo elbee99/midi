{
 "cells": [
  {
   "attachments": {},
   "cell_type": "markdown",
   "metadata": {},
   "source": [
    "# Raman spectrum baseline subtraction and peak fitting"
   ]
  },
  {
   "cell_type": "code",
   "execution_count": null,
   "metadata": {},
   "outputs": [
    {
     "ename": "",
     "evalue": "",
     "output_type": "error",
     "traceback": [
      "\u001b[1;31mRunning cells with '.venv' requires the ipykernel package.\n",
      "\u001b[1;31mRun the following command to install 'ipykernel' into the Python environment. \n",
      "\u001b[1;31mCommand: 'c:/Users/lb958/Code/datalab/.venv/Scripts/python.exe -m pip install ipykernel -U --force-reinstall'"
     ]
    }
   ],
   "source": [
    "import pandas as pd\n",
    "import numpy as np\n",
    "import matplotlib.pyplot as plt\n",
    "import matplotlib\n",
    "import peakutils\n",
    "from scipy.signal import find_peaks\n",
    "\n",
    "%matplotlib tk"
   ]
  },
  {
   "cell_type": "code",
   "execution_count": 2,
   "metadata": {},
   "outputs": [
    {
     "name": "stdout",
     "output_type": "stream",
     "text": [
      "[1967.354492 1965.749023 1964.142578 ...  118.995117  116.893555\n",
      "  114.791992]\n"
     ]
    }
   ],
   "source": [
    "data_file_path = r\"C:\\Users\\lb958\\OneDrive - University of Cambridge\\Data\\Midi\\Raman\\23.06.21 MWCNTs\\MWCNTs_patterned.txt\"\n",
    "df = pd.read_csv(data_file_path, sep=r\"\\s+\", skiprows=1, header=None)\n",
    "data = np.genfromtxt(data_file_path, delimiter=\"\\t\", skip_header=1)\n",
    "wave_numbers = data[:, 0]\n",
    "intensities = data[:, 1]\n",
    "print(wave_numbers)"
   ]
  },
  {
   "cell_type": "code",
   "execution_count": 4,
   "metadata": {},
   "outputs": [
    {
     "data": {
      "text/plain": [
       "[<matplotlib.lines.Line2D at 0x1e8c28bd4d0>]"
      ]
     },
     "execution_count": 4,
     "metadata": {},
     "output_type": "execute_result"
    }
   ],
   "source": []
  },
  {
   "cell_type": "code",
   "execution_count": 5,
   "metadata": {},
   "outputs": [
    {
     "name": "stdout",
     "output_type": "stream",
     "text": [
      "234 380\n",
      "6162.945313 1059.322876\n",
      "I_D/I_G =  0.17188581468757874\n"
     ]
    }
   ],
   "source": [
    "# print number of elements in the find_peaks tuble\n",
    "peak_indices = find_peaks(intensities, prominence= 500)[0]\n",
    "print(peak_indices[0], peak_indices[1])\n",
    "plt.plot(wave_numbers, intensities)\n",
    "plt.scatter(wave_numbers[peak_indices], intensities[peak_indices], c='r')\n",
    "plt.show()\n",
    "print(intensities[peak_indices[0]],intensities[peak_indices[1]])\n",
    "\n",
    "print('I_D/I_G = ', intensities[peak_indices[1]]/intensities[peak_indices[0]])\n"
   ]
  },
  {
   "cell_type": "code",
   "execution_count": 5,
   "metadata": {},
   "outputs": [],
   "source": [
    "baseline_values = peakutils.baseline(intensities, 2)\n",
    "plt.plot(df[0], df[1])\n",
    "plt.plot(wave_numbers, baseline_values, color=\"red\")\n",
    "plt.show()"
   ]
  },
  {
   "cell_type": "code",
   "execution_count": 7,
   "metadata": {},
   "outputs": [
    {
     "name": "stdout",
     "output_type": "stream",
     "text": [
      "['C:\\\\Users\\\\lb958\\\\OneDrive - University of Cambridge\\\\Data\\\\Midi\\\\Raman\\\\23.06.21 MWCNTs\\\\MWCNTs_patterned.txt', 'C:\\\\Users\\\\lb958\\\\OneDrive - University of Cambridge\\\\Data\\\\Midi\\\\Raman\\\\23.06.21 MWCNTs\\\\MWCNTs_patterned1.txt', 'C:\\\\Users\\\\lb958\\\\OneDrive - University of Cambridge\\\\Data\\\\Midi\\\\Raman\\\\23.06.21 MWCNTs\\\\MWCNTs_patterned2.txt', 'C:\\\\Users\\\\lb958\\\\OneDrive - University of Cambridge\\\\Data\\\\Midi\\\\Raman\\\\23.06.21 MWCNTs\\\\MWCNTs_patterned_map_bottom.txt', 'C:\\\\Users\\\\lb958\\\\OneDrive - University of Cambridge\\\\Data\\\\Midi\\\\Raman\\\\23.06.21 MWCNTs\\\\MWCNTs_patterned_map_Copy.txt', 'C:\\\\Users\\\\lb958\\\\OneDrive - University of Cambridge\\\\Data\\\\Midi\\\\Raman\\\\23.06.21 MWCNTs\\\\MWCNTs_unpatterned.txt', 'C:\\\\Users\\\\lb958\\\\OneDrive - University of Cambridge\\\\Data\\\\Midi\\\\Raman\\\\23.06.21 MWCNTs\\\\MWCNTs_unpatterned1.txt', 'C:\\\\Users\\\\lb958\\\\OneDrive - University of Cambridge\\\\Data\\\\Midi\\\\Raman\\\\23.06.21 MWCNTs\\\\MWCNTs_unpatterned2.txt', 'C:\\\\Users\\\\lb958\\\\OneDrive - University of Cambridge\\\\Data\\\\Midi\\\\Raman\\\\23.06.21 MWCNTs\\\\MWCNTs_unpatterned3.txt', 'C:\\\\Users\\\\lb958\\\\OneDrive - University of Cambridge\\\\Data\\\\Midi\\\\Raman\\\\23.06.21 MWCNTs\\\\MWCNTs_unpatterned4.txt', 'C:\\\\Users\\\\lb958\\\\OneDrive - University of Cambridge\\\\Data\\\\Midi\\\\Raman\\\\23.06.21 MWCNTs\\\\MWCNTs_unpatterned_map.txt']\n"
     ]
    }
   ],
   "source": [
    "import glob\n",
    "\n",
    "my_files_path = glob.glob(r'C:\\Users\\lb958\\OneDrive - University of Cambridge\\Data\\Midi\\Raman\\23.06.21 MWCNTs\\*.txt')\n",
    "print(my_files_path)"
   ]
  },
  {
   "cell_type": "code",
   "execution_count": 6,
   "metadata": {},
   "outputs": [],
   "source": [
    "from scipy import sparse\n",
    "from scipy.sparse.linalg import spsolve"
   ]
  },
  {
   "cell_type": "code",
   "execution_count": 9,
   "metadata": {},
   "outputs": [],
   "source": [
    "def baseline_als(y, lam, p, niter=10):\n",
    "  L = len(y)\n",
    "  D = sparse.diags([1,-2,1],[0,-1,-2], shape=(L,L-2))\n",
    "  w = np.ones(L)\n",
    "  for i in range(niter):\n",
    "    W = sparse.spdiags(w, 0, L, L)\n",
    "    Z = W + lam * D.dot(D.transpose())\n",
    "    z = spsolve(Z, w*y)\n",
    "    w = p * (y > z) + (1-p) * (y < z)\n",
    "  return z"
   ]
  },
  {
   "cell_type": "code",
   "execution_count": 10,
   "metadata": {},
   "outputs": [
    {
     "data": {
      "text/plain": [
       "[<matplotlib.lines.Line2D at 0x1e8c2925c50>]"
      ]
     },
     "execution_count": 10,
     "metadata": {},
     "output_type": "execute_result"
    }
   ],
   "source": [
    "baseline = baseline_als(intensities, 100000, 0.0001, 1000)\n",
    "plt.plot(wave_numbers, intensities)\n",
    "plt.plot(wave_numbers, baseline)"
   ]
  },
  {
   "cell_type": "code",
   "execution_count": 10,
   "metadata": {},
   "outputs": [],
   "source": [
    "from pybaselines import Baseline, utils\n",
    "\n",
    "def generate_baseline(x_data, y_data):\n",
    "    baseline_fitter = Baseline(x_data = x_data)\n",
    "    baseline = baseline_fitter.mor(y_data, half_window=30)[0]\n",
    "    return baseline\n",
    "\n"
   ]
  },
  {
   "attachments": {},
   "cell_type": "markdown",
   "metadata": {},
   "source": [
    "### Analysis from file to baseline subtraction + I_D/I_G"
   ]
  },
  {
   "cell_type": "code",
   "execution_count": 8,
   "metadata": {},
   "outputs": [],
   "source": [
    "def return_DtoG_ratio(data):\n",
    "    if type(data) == str:\n",
    "        data = np.genfromtxt(data, delimiter=\"\\t\", skip_header=1)\n",
    "    wave_numbers = data[:, 0]\n",
    "    intensities = data[:, 1]\n",
    "    baseline = generate_baseline(wave_numbers, intensities)\n",
    "    corrected_intensities = intensities - baseline\n",
    "    corrected_intensities = corrected_intensities/np.max(corrected_intensities)\n",
    "\n",
    "    peak_indices = find_peaks(corrected_intensities, prominence= 0.05, distance=20, width=10)[0]\n",
    "    #discard peak indices in first half of spectrum\n",
    "    peak_indices = peak_indices[peak_indices < len(wave_numbers)/2]\n",
    "    try:\n",
    "        I_D_I_G = corrected_intensities[peak_indices[1]]/corrected_intensities[peak_indices[0]]\n",
    "        return I_D_I_G\n",
    "    except IndexError:\n",
    "        return None\n",
    "    "
   ]
  },
  {
   "cell_type": "code",
   "execution_count": 7,
   "metadata": {},
   "outputs": [],
   "source": [
    "def process_raman_data(wave_numbers,intensities, fig, ax):\n",
    "    # generate baseline\n",
    "    baseline = generate_baseline(wave_numbers, intensities)\n",
    "    corrected_intensities = intensities - baseline\n",
    "    corrected_intensities = corrected_intensities/np.max(corrected_intensities)\n",
    "    #plot raw data, baseline and corrected data\n",
    "    ax.set_title('Raman spectrum')\n",
    "    ax.set_xlabel('Wave number (cm$^{-1}$)')\n",
    "    ax.set_ylabel('Intensity (a.u.)')\n",
    "    \n",
    "    ax.plot(wave_numbers, corrected_intensities)\n",
    "    \n",
    "    #remove numbers on y axis\n",
    "    ax.set_yticklabels([])\n",
    "\n",
    "    # find and plot peaks\n",
    "    peak_indices = find_peaks(corrected_intensities, prominence= 0.05, distance=20, width=10)[0]\n",
    "    #discard peak indices in first quarter of spectrum\n",
    "    peak_indices = peak_indices[peak_indices < len(wave_numbers)/2]\n",
    "\n",
    "    ax.scatter(wave_numbers[peak_indices], corrected_intensities[peak_indices], c='r')\n",
    "    # mark peak positions on plot\n",
    "    peaks_string = \"\"\n",
    "    for i in peak_indices:\n",
    "        peaks_string = peaks_string + \"Peak at {:.2f} cm$^{{-1}}$, intensity {:.2f} \\n\".format(wave_numbers[i], corrected_intensities[i])\n",
    "    # place box with peaks_string\n",
    "    ax.text(0.05, 0.5, peaks_string, \n",
    "            transform=ax.transAxes, fontsize=10, ha='left', va='top', bbox=dict(boxstyle='round', facecolor='wheat', alpha=0.5))\n",
    "\n",
    "    # place box with I_D/I_G value\n",
    "    ax.text(0.05, 0.95, 'I_D/I_G = {:.4f}'.format(corrected_intensities[peak_indices[1]]/corrected_intensities[peak_indices[0]]), \n",
    "            transform=ax.transAxes, fontsize=14, ha='left', va='top', bbox=dict(boxstyle='round', facecolor='wheat', alpha=0.5))    "
   ]
  },
  {
   "cell_type": "code",
   "execution_count": 8,
   "metadata": {},
   "outputs": [],
   "source": [
    "def process_raman(data_file_path,figure_generated = False):\n",
    "    if figure_generated == False:\n",
    "        fig, ax = plt.subplots()\n",
    "    # generate data from file\n",
    "    data = np.genfromtxt(data_file_path, delimiter=\"\\t\", skip_header=1)\n",
    "    wave_numbers = data[:, 0]\n",
    "    intensities = data[:, 1]\n",
    "\n",
    "    process_raman_data(wave_numbers,intensities, fig, ax)\n",
    "    fig.show()\n",
    "\n"
   ]
  },
  {
   "cell_type": "code",
   "execution_count": 59,
   "metadata": {},
   "outputs": [
    {
     "name": "stdout",
     "output_type": "stream",
     "text": [
      "(1011, 2)\n"
     ]
    }
   ],
   "source": [
    "process_raman(data_file_path)\n",
    "print(np.genfromtxt(data_file_path, delimiter=\"\\t\", skip_header=1).shape)\n",
    "# print(return_DtoG_ratio(np.genfromtxt(data_file_path, delimiter=\"\\t\", skip_header=1)))"
   ]
  },
  {
   "cell_type": "code",
   "execution_count": 60,
   "metadata": {},
   "outputs": [],
   "source": [
    "MWCNT_unpatterned_path = r\"C:\\Users\\lb958\\OneDrive - University of Cambridge\\Data\\Midi\\Raman\\23.06.21 MWCNTs\\MWCNTs_unpatterned1.txt\"\n",
    "process_raman(MWCNT_unpatterned_path)"
   ]
  },
  {
   "cell_type": "code",
   "execution_count": 5,
   "metadata": {},
   "outputs": [
    {
     "data": {
      "text/html": [
       "<div>\n",
       "<style scoped>\n",
       "    .dataframe tbody tr th:only-of-type {\n",
       "        vertical-align: middle;\n",
       "    }\n",
       "\n",
       "    .dataframe tbody tr th {\n",
       "        vertical-align: top;\n",
       "    }\n",
       "\n",
       "    .dataframe thead th {\n",
       "        text-align: right;\n",
       "    }\n",
       "</style>\n",
       "<table border=\"1\" class=\"dataframe\">\n",
       "  <thead>\n",
       "    <tr style=\"text-align: right;\">\n",
       "      <th></th>\n",
       "      <th>#X</th>\n",
       "      <th>#Y</th>\n",
       "      <th>#Wave</th>\n",
       "      <th>#Intensity</th>\n",
       "    </tr>\n",
       "  </thead>\n",
       "  <tbody>\n",
       "    <tr>\n",
       "      <th>0</th>\n",
       "      <td>-120.0</td>\n",
       "      <td>-80.0</td>\n",
       "      <td>1879.449219</td>\n",
       "      <td>1078.561768</td>\n",
       "    </tr>\n",
       "    <tr>\n",
       "      <th>1</th>\n",
       "      <td>-120.0</td>\n",
       "      <td>-80.0</td>\n",
       "      <td>1877.822266</td>\n",
       "      <td>1026.323730</td>\n",
       "    </tr>\n",
       "    <tr>\n",
       "      <th>2</th>\n",
       "      <td>-120.0</td>\n",
       "      <td>-80.0</td>\n",
       "      <td>1876.194336</td>\n",
       "      <td>1092.124634</td>\n",
       "    </tr>\n",
       "    <tr>\n",
       "      <th>3</th>\n",
       "      <td>-120.0</td>\n",
       "      <td>-80.0</td>\n",
       "      <td>1874.566406</td>\n",
       "      <td>1101.073730</td>\n",
       "    </tr>\n",
       "    <tr>\n",
       "      <th>4</th>\n",
       "      <td>-120.0</td>\n",
       "      <td>-80.0</td>\n",
       "      <td>1872.938477</td>\n",
       "      <td>1116.159546</td>\n",
       "    </tr>\n",
       "  </tbody>\n",
       "</table>\n",
       "</div>"
      ],
      "text/plain": [
       "      #X    #Y        #Wave   #Intensity\n",
       "0 -120.0 -80.0  1879.449219  1078.561768\n",
       "1 -120.0 -80.0  1877.822266  1026.323730\n",
       "2 -120.0 -80.0  1876.194336  1092.124634\n",
       "3 -120.0 -80.0  1874.566406  1101.073730\n",
       "4 -120.0 -80.0  1872.938477  1116.159546"
      ]
     },
     "execution_count": 5,
     "metadata": {},
     "output_type": "execute_result"
    }
   ],
   "source": [
    "map_data_path = r\"C:\\Users\\lb958\\OneDrive - University of Cambridge\\Data\\Midi\\Raman\\23.06.21 MWCNTs\\MWCNTs_patterned_map_bottom.txt\"\n",
    "# Read the data from the file\n",
    "data = pd.read_csv(map_data_path, sep=r'\\s+')\n",
    "data.head()\n"
   ]
  },
  {
   "cell_type": "code",
   "execution_count": 3,
   "metadata": {},
   "outputs": [],
   "source": [
    "def clickable_raman_map(data_file_path):\n",
    "    data = pd.read_csv(data_file_path, sep=r'\\s+')\n",
    "    # Extract x, y coordinates, wavelength, and intensity\n",
    "    x_coordinates = data['#X']\n",
    "    y_coordinates = data['#Y']\n",
    "    wavelengths = data['#Wave']\n",
    "    intensities = data['#Intensity']\n",
    "\n",
    "    # Create a grid plot\n",
    "    fig, ax = plt.subplots()\n",
    "\n",
    "    # Plot the grid points\n",
    "    ax.scatter(x_coordinates, y_coordinates)\n",
    "\n",
    "    # Function to handle mouse click events\n",
    "    def on_click(event):\n",
    "        if event.inaxes is not None:\n",
    "            # Retrieve the clicked point coordinates\n",
    "            x = 5*(round(event.xdata/5))\n",
    "            y = 5*(round(event.ydata/5))\n",
    "            \n",
    "            # Filter the data for the clicked point\n",
    "            mask = (x_coordinates == x) & (y_coordinates == y)\n",
    "            point_wavelengths = np.array(wavelengths[mask])\n",
    "            point_intensities = np.array(intensities[mask])\n",
    "            \n",
    "            # Create a new figure for the spectrum plot\n",
    "            fig_spectrum, ax_spectrum = plt.subplots()\n",
    "            \n",
    "            # Plot the spectrum\n",
    "            process_raman_data(point_wavelengths, point_intensities, fig_spectrum, ax_spectrum)\n",
    "            \n",
    "            # Show the spectrum plot\n",
    "            plt.show()\n",
    "\n",
    "\n",
    "    # Connect the click event to the function\n",
    "    fig.canvas.mpl_connect('button_press_event', on_click)\n",
    "\n",
    "    plt.show()\n"
   ]
  },
  {
   "cell_type": "code",
   "execution_count": 11,
   "metadata": {},
   "outputs": [],
   "source": [
    "clickable_raman_map(map_data_path)"
   ]
  },
  {
   "cell_type": "code",
   "execution_count": 4,
   "metadata": {},
   "outputs": [],
   "source": [
    "def extract_spectrum(map_data_path, x, y):\n",
    "    spectrum = []\n",
    "    with open(map_data_path, 'r') as file:\n",
    "        lines = file.readlines()\n",
    "        for line in lines[1:]:\n",
    "            values = line.strip().split('\\t')\n",
    "            x_value = float(values[0])\n",
    "            y_value = float(values[1])\n",
    "            if x_value == x and y_value == y:\n",
    "                wavelength = float(values[2])\n",
    "                intensity = float(values[3])\n",
    "                spectrum.append((wavelength, intensity))\n",
    "    return np.array(spectrum)"
   ]
  },
  {
   "cell_type": "code",
   "execution_count": 13,
   "metadata": {},
   "outputs": [],
   "source": [
    "def DtoG_ratio_map(map_data_path, saveas = None, transparent = False, textcolour = None):\n",
    "    # Load the data from the file\n",
    "    data = np.loadtxt(map_data_path, skiprows=1)  # Skip the header row\n",
    "    # Extract the relevant columns\n",
    "    # making negative as map is upside down relative to microscope image\n",
    "    x = data[:, 0]\n",
    "    y = data[:, 1]\n",
    "    print(x)\n",
    "    I_D_I_G = []\n",
    "    # dictionary to store the tested points and their I_D/I_G ratios\n",
    "    tested_x_y = {}\n",
    "    # extract spectrum for each point and calculate I_D/I_G\n",
    "    for i in range(len(x)):\n",
    "        if (x[i], y[i]) not in tested_x_y.keys():\n",
    "            #extracts spectrum for the point and gets array of wave numbers and intensities\n",
    "            spectrum = extract_spectrum(map_data_path, x[i], y[i])\n",
    "            wave_numbers = np.array([spectrum[j][0] for j in range(len(spectrum))])\n",
    "            intensities = np.array([spectrum[j][1] for j in range(len(spectrum))])\n",
    "            #calculates I_D/I_G ratio for that spectrum\n",
    "            intensity_ratio = return_DtoG_ratio(np.vstack((wave_numbers, intensities)).T)\n",
    "            #adds the ratio to the dict\n",
    "            tested_x_y[(x[i], y[i])] = intensity_ratio\n",
    "        else:\n",
    "            continue\n",
    "    if type(textcolour) == str:\n",
    "            matplotlib.rcParams['text.color'] = textcolour\n",
    "            matplotlib.rcParams['axes.labelcolor'] = textcolour\n",
    "            matplotlib.rcParams['xtick.color'] = textcolour\n",
    "            matplotlib.rcParams['ytick.color'] = textcolour\n",
    "    else:\n",
    "        matplotlib.rcParams['text.color'] = 'black'\n",
    "        matplotlib.rcParams['axes.labelcolor'] = 'black'\n",
    "        matplotlib.rcParams['xtick.color'] = 'black'\n",
    "        matplotlib.rcParams['ytick.color'] = 'black'      \n",
    "        # plot the map\n",
    "    plt.scatter([key[0] for key in tested_x_y.keys()], [key[1] for key in tested_x_y.keys()], c=[value for value in tested_x_y.values()], cmap='jet')\n",
    "    # add title for colorbar\n",
    "    plt.colorbar().set_label('I$_D$/I$_G$')\n",
    "    # add title for the plot\n",
    "    plt.title('I$_D$/I$_G$ map')\n",
    "    plt.gca().invert_yaxis()\n",
    "    # add labels for the axes\n",
    "    plt.xlabel('x (µm)')\n",
    "    plt.ylabel('y (µm)')\n",
    "    \n",
    "    # include spots with no peaks in black\n",
    "    plt.scatter([key[0] for key in tested_x_y.keys() if tested_x_y[key] == None], [key[1] for key in tested_x_y.keys() if tested_x_y[key] == None], c='black')\n",
    "    \n",
    "    plt.show()\n",
    "    if type(saveas) == str:\n",
    "        plt.savefig(saveas, transparent = transparent)\n",
    "   \n"
   ]
  },
  {
   "cell_type": "code",
   "execution_count": 58,
   "metadata": {},
   "outputs": [
    {
     "name": "stdout",
     "output_type": "stream",
     "text": [
      "[-120. -120. -120. ...  120.  120.  120.]\n"
     ]
    }
   ],
   "source": [
    "DtoG_ratio_map(map_data_path, saveas = r\"C:\\Users\\lb958\\OneDrive - University of Cambridge\\Data\\Midi\\Raman\\23.06.21 MWCNTs\\DtoG_map_bottom.png\", transparent = False)"
   ]
  },
  {
   "cell_type": "code",
   "execution_count": 57,
   "metadata": {},
   "outputs": [
    {
     "name": "stdout",
     "output_type": "stream",
     "text": [
      "[-120. -120. -120. ...  120.  120.  120.]\n"
     ]
    }
   ],
   "source": [
    "DtoG_ratio_map(map_data_path, saveas = r\"C:\\Users\\lb958\\OneDrive - University of Cambridge\\Data\\Midi\\Raman\\23.06.21 MWCNTs\\DtoG_map_bottom_transparent.png\", transparent = True, \n",
    "               textcolour='lime')"
   ]
  },
  {
   "cell_type": "code",
   "execution_count": 62,
   "metadata": {},
   "outputs": [
    {
     "name": "stdout",
     "output_type": "stream",
     "text": [
      "[-150. -150. -150. ...  150.  150.  150.]\n"
     ]
    }
   ],
   "source": [
    "MWCNT_unpatterned_map_data_path = r\"C:\\Users\\lb958\\OneDrive - University of Cambridge\\Data\\Midi\\Raman\\23.06.21 MWCNTs\\MWCNTs_unpatterned_map.txt\"\n",
    "DtoG_ratio_map(MWCNT_unpatterned_map_data_path, saveas = r\"C:\\Users\\lb958\\OneDrive - University of Cambridge\\Data\\Midi\\Raman\\23.06.21 MWCNTs\\unpatterned_DtoG_map.png\", transparent = False)"
   ]
  },
  {
   "cell_type": "code",
   "execution_count": 63,
   "metadata": {},
   "outputs": [
    {
     "name": "stdout",
     "output_type": "stream",
     "text": [
      "[-150. -150. -150. ...  150.  150.  150.]\n"
     ]
    }
   ],
   "source": [
    "DtoG_ratio_map(MWCNT_unpatterned_map_data_path, saveas = r\"C:\\Users\\lb958\\OneDrive - University of Cambridge\\Data\\Midi\\Raman\\23.06.21 MWCNTs\\unpatterned_DtoG_map_transparent.png\", transparent = True,\n",
    "               textcolour='lime')"
   ]
  },
  {
   "cell_type": "code",
   "execution_count": 32,
   "metadata": {},
   "outputs": [],
   "source": [
    "def D_to_G_ratio_map_stats(map_data_path, print_stats = True):\n",
    "    data = np.loadtxt(map_data_path, skiprows=1)  # Skip the header row\n",
    "    # Extract the relevant columns\n",
    "    # making negative as map is upside down relative to microscope image\n",
    "    x = data[:, 0]\n",
    "    y = data[:, 1]\n",
    "    print(x)\n",
    "    I_D_I_G = []\n",
    "    # dictionary to store the tested points and their I_D/I_G ratios\n",
    "    tested_x_y = {}\n",
    "    # extract spectrum for each point and calculate I_D/I_G\n",
    "    for i in range(len(x)):\n",
    "        if (x[i], y[i]) not in tested_x_y.keys():\n",
    "            #extracts spectrum for the point and gets array of wave numbers and intensities\n",
    "            spectrum = extract_spectrum(map_data_path, x[i], y[i])\n",
    "            wave_numbers = np.array([spectrum[j][0] for j in range(len(spectrum))])\n",
    "            intensities = np.array([spectrum[j][1] for j in range(len(spectrum))])\n",
    "            #calculates I_D/I_G ratio for that spectrum\n",
    "            intensity_ratio = return_DtoG_ratio(np.vstack((wave_numbers, intensities)).T)\n",
    "            #adds the ratio to the dict\n",
    "            tested_x_y[(x[i], y[i])] = intensity_ratio\n",
    "        else:\n",
    "            continue\n",
    "    ratio_array = np.array([intensity for intensity in list(tested_x_y.values()) if intensity != None])\n",
    "    print(ratio_array)\n",
    "    if print_stats == True:\n",
    "        print('Mean I_D/I_G ratio: {:.4f}'.format(ratio_array.mean()))\n",
    "        print('Standard deviation of I_D/I_G ratio: {:.4f}'.format(ratio_array.std()))\n",
    "        \n",
    "    return ratio_array.mean(), ratio_array.std()"
   ]
  },
  {
   "cell_type": "code",
   "execution_count": 33,
   "metadata": {},
   "outputs": [
    {
     "name": "stdout",
     "output_type": "stream",
     "text": [
      "[-150. -150. -150. ...  150.  150.  150.]\n",
      "[0.13243243 0.12423647 0.26449375 0.12317153 0.11386892 0.08251268\n",
      " 0.11773701 0.12239131 0.09469756 0.11181855 0.12381147 0.09641554\n",
      " 0.08051998 0.14326142 0.13848135 0.12281462 0.11340885 0.1074007\n",
      " 0.12431877 0.14627266 0.13106193 0.09100588 0.12430041 0.11850988\n",
      " 0.11473645 0.12963358 0.15077758 0.09877808 0.08027526 0.10023429\n",
      " 0.11656313 0.08068448 0.11320005 0.12880808 0.16045943]\n",
      "Mean I_D/I_G ratio: 0.1207\n",
      "Standard deviation of I_D/I_G ratio: 0.0316\n",
      "[-120. -120. -120. ...  120.  120.  120.]\n",
      "[0.28424319 0.35195505 0.28544944 0.25561041 0.2639323  0.32966649\n",
      " 0.44875004 0.3246068  0.29480188 0.27390843 0.33818125 0.35488048\n",
      " 0.32562259 0.28077398 0.32246387 0.40194791 0.46617414 0.35165417\n",
      " 0.28422333 0.27030928 0.32336129 0.34946821 0.24992157 0.25354744\n",
      " 0.29109457 0.2964516  0.29547141 0.3310462  0.28846463 0.24760001\n",
      " 0.24223843 0.25819625 0.25261052 0.36258924 0.36491061 0.24935141\n",
      " 0.25495085 0.28250436 0.29128087 0.27743164 0.29316383 0.25018397\n",
      " 0.24193484 0.23810167 0.22956454 0.33368555 0.31358004 0.36530685\n",
      " 0.29057061 0.31703981 0.24059852 0.23161399 0.24865531 0.29613589\n",
      " 0.27154768 0.2159044  0.22643207 0.24904417 0.32177094 0.29714133\n",
      " 0.33721259 0.32012267 0.30357334 0.32013646 0.29048194 0.23513635\n",
      " 0.25626235 0.20166857 0.17538371 0.25460356 0.24562381 0.45158491\n",
      " 0.3019115  0.34464933 0.35329245 0.31519709 0.25535363 0.23933788\n",
      " 0.22524112 0.21614636 0.21074134 0.1723328  0.25427565 0.27471136\n",
      " 0.24607583 0.32099564 0.33703541 0.31957711 0.24998592 0.24565464\n",
      " 0.32648864 0.24263271 0.25032058 0.32722493 0.27988498 0.32880642\n",
      " 0.33456341 0.37159682 0.29546598 0.28604217 0.2645315  0.27928852\n",
      " 0.24880055 0.25344364 0.28477974 0.43697772 0.35231724 0.33387972\n",
      " 0.33969857 0.27378568 0.28392397 0.24891277 0.3551329  0.34829047\n",
      " 0.34344513 0.33410534 0.33951761 0.27046409 0.27711665]\n",
      "Mean I_D/I_G ratio: 0.2935\n",
      "Standard deviation of I_D/I_G ratio: 0.0532\n"
     ]
    },
    {
     "data": {
      "text/plain": [
       "(0.293524082978037, 0.053245873054007554)"
      ]
     },
     "execution_count": 33,
     "metadata": {},
     "output_type": "execute_result"
    }
   ],
   "source": [
    "MWCNT_unpatterned_map_data_path = r\"C:\\Users\\lb958\\OneDrive - University of Cambridge\\Data\\Midi\\Raman\\23.06.21 MWCNTs\\MWCNTs_unpatterned_map.txt\"\n",
    "D_to_G_ratio_map_stats(MWCNT_unpatterned_map_data_path)\n",
    "D_to_G_ratio_map_stats(map_data_path)"
   ]
  },
  {
   "cell_type": "code",
   "execution_count": null,
   "metadata": {},
   "outputs": [],
   "source": []
  }
 ],
 "metadata": {
  "kernelspec": {
   "display_name": ".venv",
   "language": "python",
   "name": "python3"
  },
  "language_info": {
   "codemirror_mode": {
    "name": "ipython",
    "version": 3
   },
   "file_extension": ".py",
   "mimetype": "text/x-python",
   "name": "python",
   "nbconvert_exporter": "python",
   "pygments_lexer": "ipython3",
   "version": "3.11.2"
  },
  "orig_nbformat": 4
 },
 "nbformat": 4,
 "nbformat_minor": 2
}
