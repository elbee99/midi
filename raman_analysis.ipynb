{
 "cells": [
  {
   "attachments": {},
   "cell_type": "markdown",
   "metadata": {},
   "source": [
    "# Raman spectrum baseline subtraction and peak fitting"
   ]
  },
  {
   "cell_type": "code",
   "execution_count": 64,
   "metadata": {},
   "outputs": [
    {
     "name": "stdout",
     "output_type": "stream",
     "text": [
      "Warning: Cannot change to a different GUI toolkit: tk. Using qt instead.\n"
     ]
    }
   ],
   "source": [
    "import pandas as pd\n",
    "import numpy as np\n",
    "import matplotlib.pyplot as plt\n",
    "import peakutils\n",
    "from scipy.signal import find_peaks\n",
    "\n",
    "%matplotlib tk"
   ]
  },
  {
   "cell_type": "code",
   "execution_count": 75,
   "metadata": {},
   "outputs": [],
   "source": [
    "data_file_path = r\"C:\\Users\\lb958\\OneDrive - University of Cambridge\\Data\\Midi\\Raman\\23.06.21 MWCNTs\\MWCNTs_patterned.txt\"\n",
    "df = pd.read_csv(data_file_path, sep=r\"\\s+\", skiprows=1, header=None)\n",
    "data = np.genfromtxt(data_file_path, delimiter=\"\\t\", skip_header=1)\n",
    "wave_numbers = data[:, 0]\n",
    "intensities = data[:, 1]"
   ]
  },
  {
   "cell_type": "code",
   "execution_count": 76,
   "metadata": {},
   "outputs": [
    {
     "data": {
      "text/plain": [
       "[<matplotlib.lines.Line2D at 0x2bd0c6a94d0>]"
      ]
     },
     "execution_count": 76,
     "metadata": {},
     "output_type": "execute_result"
    }
   ],
   "source": [
    "plt.plot(wave_numbers, intensities)"
   ]
  },
  {
   "cell_type": "code",
   "execution_count": 88,
   "metadata": {},
   "outputs": [
    {
     "name": "stdout",
     "output_type": "stream",
     "text": [
      "234 380\n",
      "6162.945313 1059.322876\n",
      "I_D/I_G =  0.17188581468757874\n"
     ]
    }
   ],
   "source": [
    "# print number of elements in the find_peaks tuble\n",
    "peak_indices = find_peaks(intensities, prominence= 500)[0]\n",
    "print(peak_indices[0], peak_indices[1])\n",
    "plt.plot(wave_numbers, intensities)\n",
    "plt.scatter(wave_numbers[peak_indices], intensities[peak_indices], c='r')\n",
    "plt.show()\n",
    "print(intensities[peak_indices[0]],intensities[peak_indices[1]])\n",
    "\n",
    "print('I_D/I_G = ', intensities[peak_indices[1]]/intensities[peak_indices[0]])\n"
   ]
  },
  {
   "cell_type": "code",
   "execution_count": 80,
   "metadata": {},
   "outputs": [],
   "source": [
    "baseline_values = peakutils.baseline(intensities, 2)\n",
    "plt.plot(df[0], df[1])\n",
    "plt.plot(wave_numbers, baseline_values, color=\"red\")\n",
    "plt.show()"
   ]
  },
  {
   "cell_type": "code",
   "execution_count": 14,
   "metadata": {},
   "outputs": [
    {
     "name": "stdout",
     "output_type": "stream",
     "text": [
      "['C:\\\\Users\\\\lb958\\\\OneDrive - University of Cambridge\\\\Data\\\\Midi\\\\Raman\\\\23.06.21 MWCNTs\\\\MWCNTs_patterned.txt', 'C:\\\\Users\\\\lb958\\\\OneDrive - University of Cambridge\\\\Data\\\\Midi\\\\Raman\\\\23.06.21 MWCNTs\\\\MWCNTs_patterned1.txt', 'C:\\\\Users\\\\lb958\\\\OneDrive - University of Cambridge\\\\Data\\\\Midi\\\\Raman\\\\23.06.21 MWCNTs\\\\MWCNTs_patterned2.txt', 'C:\\\\Users\\\\lb958\\\\OneDrive - University of Cambridge\\\\Data\\\\Midi\\\\Raman\\\\23.06.21 MWCNTs\\\\MWCNTs_patterned_map_bottom.txt', 'C:\\\\Users\\\\lb958\\\\OneDrive - University of Cambridge\\\\Data\\\\Midi\\\\Raman\\\\23.06.21 MWCNTs\\\\MWCNTs_patterned_map_Copy.txt', 'C:\\\\Users\\\\lb958\\\\OneDrive - University of Cambridge\\\\Data\\\\Midi\\\\Raman\\\\23.06.21 MWCNTs\\\\MWCNTs_unpatterned.txt', 'C:\\\\Users\\\\lb958\\\\OneDrive - University of Cambridge\\\\Data\\\\Midi\\\\Raman\\\\23.06.21 MWCNTs\\\\MWCNTs_unpatterned1.txt', 'C:\\\\Users\\\\lb958\\\\OneDrive - University of Cambridge\\\\Data\\\\Midi\\\\Raman\\\\23.06.21 MWCNTs\\\\MWCNTs_unpatterned2.txt', 'C:\\\\Users\\\\lb958\\\\OneDrive - University of Cambridge\\\\Data\\\\Midi\\\\Raman\\\\23.06.21 MWCNTs\\\\MWCNTs_unpatterned3.txt', 'C:\\\\Users\\\\lb958\\\\OneDrive - University of Cambridge\\\\Data\\\\Midi\\\\Raman\\\\23.06.21 MWCNTs\\\\MWCNTs_unpatterned4.txt', 'C:\\\\Users\\\\lb958\\\\OneDrive - University of Cambridge\\\\Data\\\\Midi\\\\Raman\\\\23.06.21 MWCNTs\\\\MWCNTs_unpatterned_map.txt']\n"
     ]
    }
   ],
   "source": [
    "import glob\n",
    "\n",
    "my_files_path = glob.glob(r'C:\\Users\\lb958\\OneDrive - University of Cambridge\\Data\\Midi\\Raman\\23.06.21 MWCNTs\\*.txt')\n",
    "print(my_files_path)"
   ]
  },
  {
   "cell_type": "code",
   "execution_count": 18,
   "metadata": {},
   "outputs": [],
   "source": [
    "from scipy import sparse\n",
    "from scipy.sparse.linalg import spsolve"
   ]
  },
  {
   "cell_type": "code",
   "execution_count": 19,
   "metadata": {},
   "outputs": [],
   "source": [
    "def baseline_als(y, lam, p, niter=10):\n",
    "  L = len(y)\n",
    "  D = sparse.diags([1,-2,1],[0,-1,-2], shape=(L,L-2))\n",
    "  w = np.ones(L)\n",
    "  for i in range(niter):\n",
    "    W = sparse.spdiags(w, 0, L, L)\n",
    "    Z = W + lam * D.dot(D.transpose())\n",
    "    z = spsolve(Z, w*y)\n",
    "    w = p * (y > z) + (1-p) * (y < z)\n",
    "  return z"
   ]
  },
  {
   "cell_type": "code",
   "execution_count": 27,
   "metadata": {},
   "outputs": [
    {
     "data": {
      "text/plain": [
       "[<matplotlib.lines.Line2D at 0x2bd00c318d0>]"
      ]
     },
     "execution_count": 27,
     "metadata": {},
     "output_type": "execute_result"
    },
    {
     "data": {
      "image/png": "[encoded data removed]",
      "text/plain": [
       "<Figure size 640x480 with 1 Axes>"
      ]
     },
     "metadata": {},
     "output_type": "display_data"
    }
   ],
   "source": [
    "baseline = baseline_als(intensities, 100000, 0.0001, 1000)\n",
    "plt.plot(wave_numbers, intensities)\n",
    "plt.plot(wave_numbers, baseline)"
   ]
  },
  {
   "cell_type": "code",
   "execution_count": 93,
   "metadata": {},
   "outputs": [],
   "source": [
    "from pybaselines import Baseline, utils\n",
    "\n",
    "def generate_baseline(x_data, y_data):\n",
    "    baseline_fitter = Baseline(x_data = x_data)\n",
    "    baseline = baseline_fitter.mor(y_data, half_window=30)[0]\n",
    "    return baseline\n",
    "\n"
   ]
  },
  {
   "attachments": {},
   "cell_type": "markdown",
   "metadata": {},
   "source": [
    "### Analysis from file to baseline subtraction + I_D/I_G"
   ]
  },
  {
   "cell_type": "code",
   "execution_count": 214,
   "metadata": {},
   "outputs": [],
   "source": [
    "def process_raman_data(wave_numbers,intensities, fig, ax):\n",
    "    # generate baseline\n",
    "    baseline = generate_baseline(wave_numbers, intensities)\n",
    "    corrected_intensities = intensities - baseline\n",
    "    corrected_intensities = corrected_intensities/np.max(corrected_intensities)\n",
    "    #plot raw data, baseline and corrected data\n",
    "    ax.set_title('Raman spectrum')\n",
    "    ax.set_xlabel('Wave number (cm$^{-1}$)')\n",
    "    ax.set_ylabel('Intensity (a.u.)')\n",
    "    \n",
    "    ax.plot(wave_numbers, corrected_intensities)\n",
    "    \n",
    "    #remove numbers on y axis\n",
    "    ax.set_yticklabels([])\n",
    "\n",
    "    # find and plot peaks\n",
    "    peak_indices = find_peaks(corrected_intensities, prominence= 0.05, distance=20, width=10)[0]\n",
    "    #discard peak indices in first quarter of spectrum\n",
    "    peak_indices = peak_indices[peak_indices < len(wave_numbers)/2]\n",
    "\n",
    "    ax.scatter(wave_numbers[peak_indices], corrected_intensities[peak_indices], c='r')\n",
    "    # mark peak positions on plot\n",
    "    peaks_string = \"\"\n",
    "    for i in peak_indices:\n",
    "        peaks_string = peaks_string + \"Peak at {:.2f} cm$^{{-1}}$, intensity {:.2f} \\n\".format(wave_numbers[i], corrected_intensities[i])\n",
    "    # place box with peaks_string\n",
    "    ax.text(0.05, 0.5, peaks_string, \n",
    "            transform=ax.transAxes, fontsize=10, ha='left', va='top', bbox=dict(boxstyle='round', facecolor='wheat', alpha=0.5))\n",
    "\n",
    "    # place box with I_D/I_G value\n",
    "    ax.text(0.05, 0.95, 'I_D/I_G = {:.4f}'.format(corrected_intensities[peak_indices[1]]/corrected_intensities[peak_indices[0]]), \n",
    "            transform=ax.transAxes, fontsize=14, ha='left', va='top', bbox=dict(boxstyle='round', facecolor='wheat', alpha=0.5))    "
   ]
  },
  {
   "cell_type": "code",
   "execution_count": 215,
   "metadata": {},
   "outputs": [],
   "source": [
    "def process_raman(data_file_path,figure_generated = False):\n",
    "    if figure_generated == False:\n",
    "        fig, ax = plt.subplots()\n",
    "    # generate data from file\n",
    "    data = np.genfromtxt(data_file_path, delimiter=\"\\t\", skip_header=1)\n",
    "    wave_numbers = data[:, 0]\n",
    "    intensities = data[:, 1]\n",
    "\n",
    "    process_raman_data(wave_numbers,intensities, fig, ax)\n",
    "    fig.show()\n",
    "\n"
   ]
  },
  {
   "cell_type": "code",
   "execution_count": 216,
   "metadata": {},
   "outputs": [],
   "source": [
    "process_raman(data_file_path)"
   ]
  },
  {
   "cell_type": "code",
   "execution_count": 217,
   "metadata": {},
   "outputs": [
    {
     "data": {
      "text/html": [
       "<div>\n",
       "<style scoped>\n",
       "    .dataframe tbody tr th:only-of-type {\n",
       "        vertical-align: middle;\n",
       "    }\n",
       "\n",
       "    .dataframe tbody tr th {\n",
       "        vertical-align: top;\n",
       "    }\n",
       "\n",
       "    .dataframe thead th {\n",
       "        text-align: right;\n",
       "    }\n",
       "</style>\n",
       "<table border=\"1\" class=\"dataframe\">\n",
       "  <thead>\n",
       "    <tr style=\"text-align: right;\">\n",
       "      <th></th>\n",
       "      <th>#X</th>\n",
       "      <th>#Y</th>\n",
       "      <th>#Wave</th>\n",
       "      <th>#Intensity</th>\n",
       "    </tr>\n",
       "  </thead>\n",
       "  <tbody>\n",
       "    <tr>\n",
       "      <th>0</th>\n",
       "      <td>-120.0</td>\n",
       "      <td>-80.0</td>\n",
       "      <td>1879.449219</td>\n",
       "      <td>1078.561768</td>\n",
       "    </tr>\n",
       "    <tr>\n",
       "      <th>1</th>\n",
       "      <td>-120.0</td>\n",
       "      <td>-80.0</td>\n",
       "      <td>1877.822266</td>\n",
       "      <td>1026.323730</td>\n",
       "    </tr>\n",
       "    <tr>\n",
       "      <th>2</th>\n",
       "      <td>-120.0</td>\n",
       "      <td>-80.0</td>\n",
       "      <td>1876.194336</td>\n",
       "      <td>1092.124634</td>\n",
       "    </tr>\n",
       "    <tr>\n",
       "      <th>3</th>\n",
       "      <td>-120.0</td>\n",
       "      <td>-80.0</td>\n",
       "      <td>1874.566406</td>\n",
       "      <td>1101.073730</td>\n",
       "    </tr>\n",
       "    <tr>\n",
       "      <th>4</th>\n",
       "      <td>-120.0</td>\n",
       "      <td>-80.0</td>\n",
       "      <td>1872.938477</td>\n",
       "      <td>1116.159546</td>\n",
       "    </tr>\n",
       "  </tbody>\n",
       "</table>\n",
       "</div>"
      ],
      "text/plain": [
       "      #X    #Y        #Wave   #Intensity\n",
       "0 -120.0 -80.0  1879.449219  1078.561768\n",
       "1 -120.0 -80.0  1877.822266  1026.323730\n",
       "2 -120.0 -80.0  1876.194336  1092.124634\n",
       "3 -120.0 -80.0  1874.566406  1101.073730\n",
       "4 -120.0 -80.0  1872.938477  1116.159546"
      ]
     },
     "execution_count": 217,
     "metadata": {},
     "output_type": "execute_result"
    }
   ],
   "source": [
    "map_data_path = r\"C:\\Users\\lb958\\OneDrive - University of Cambridge\\Data\\Midi\\Raman\\23.06.21 MWCNTs\\MWCNTs_patterned_map_bottom.txt\"\n",
    "# Read the data from the file\n",
    "data = pd.read_csv(map_data_path, sep=r'\\s+')\n",
    "data.head()\n"
   ]
  },
  {
   "cell_type": "code",
   "execution_count": 218,
   "metadata": {},
   "outputs": [
    {
     "name": "stderr",
     "output_type": "stream",
     "text": [
      "Traceback (most recent call last):\n",
      "  File \"c:\\Users\\lb958\\Code\\midi\\.venv\\Lib\\site-packages\\matplotlib\\cbook\\__init__.py\", line 304, in process\n",
      "    func(*args, **kwargs)\n",
      "  File \"C:\\Users\\lb958\\AppData\\Local\\Temp\\ipykernel_25800\\62815823.py\", line 29, in on_click\n",
      "    process_raman_data(point_wavelengths, point_intensities, fig_spectrum, ax_spectrum)\n",
      "  File \"C:\\Users\\lb958\\AppData\\Local\\Temp\\ipykernel_25800\\1934747220.py\", line 31, in process_raman_data\n",
      "    ax.text(0.05, 0.95, 'I_D/I_G = {:.4f}'.format(corrected_intensities[peak_indices[1]]/corrected_intensities[peak_indices[0]]),\n",
      "                                                                       ~~~~~~~~~~~~^^^\n",
      "IndexError: index 1 is out of bounds for axis 0 with size 0\n",
      "Traceback (most recent call last):\n",
      "  File \"c:\\Users\\lb958\\Code\\midi\\.venv\\Lib\\site-packages\\matplotlib\\cbook\\__init__.py\", line 304, in process\n",
      "    func(*args, **kwargs)\n",
      "  File \"C:\\Users\\lb958\\AppData\\Local\\Temp\\ipykernel_25800\\62815823.py\", line 29, in on_click\n",
      "    process_raman_data(point_wavelengths, point_intensities, fig_spectrum, ax_spectrum)\n",
      "  File \"C:\\Users\\lb958\\AppData\\Local\\Temp\\ipykernel_25800\\1934747220.py\", line 31, in process_raman_data\n",
      "    ax.text(0.05, 0.95, 'I_D/I_G = {:.4f}'.format(corrected_intensities[peak_indices[1]]/corrected_intensities[peak_indices[0]]),\n",
      "                                                                       ~~~~~~~~~~~~^^^\n",
      "IndexError: index 1 is out of bounds for axis 0 with size 0\n",
      "Traceback (most recent call last):\n",
      "  File \"c:\\Users\\lb958\\Code\\midi\\.venv\\Lib\\site-packages\\matplotlib\\cbook\\__init__.py\", line 304, in process\n",
      "    func(*args, **kwargs)\n",
      "  File \"C:\\Users\\lb958\\AppData\\Local\\Temp\\ipykernel_25800\\62815823.py\", line 29, in on_click\n",
      "    process_raman_data(point_wavelengths, point_intensities, fig_spectrum, ax_spectrum)\n",
      "  File \"C:\\Users\\lb958\\AppData\\Local\\Temp\\ipykernel_25800\\1934747220.py\", line 31, in process_raman_data\n",
      "    ax.text(0.05, 0.95, 'I_D/I_G = {:.4f}'.format(corrected_intensities[peak_indices[1]]/corrected_intensities[peak_indices[0]]),\n",
      "                                                                       ~~~~~~~~~~~~^^^\n",
      "IndexError: index 1 is out of bounds for axis 0 with size 0\n",
      "Traceback (most recent call last):\n",
      "  File \"c:\\Users\\lb958\\Code\\midi\\.venv\\Lib\\site-packages\\matplotlib\\cbook\\__init__.py\", line 304, in process\n",
      "    func(*args, **kwargs)\n",
      "  File \"C:\\Users\\lb958\\AppData\\Local\\Temp\\ipykernel_25800\\62815823.py\", line 29, in on_click\n",
      "    process_raman_data(point_wavelengths, point_intensities, fig_spectrum, ax_spectrum)\n",
      "  File \"C:\\Users\\lb958\\AppData\\Local\\Temp\\ipykernel_25800\\1934747220.py\", line 31, in process_raman_data\n",
      "    ax.text(0.05, 0.95, 'I_D/I_G = {:.4f}'.format(corrected_intensities[peak_indices[1]]/corrected_intensities[peak_indices[0]]),\n",
      "                                                                       ~~~~~~~~~~~~^^^\n",
      "IndexError: index 1 is out of bounds for axis 0 with size 0\n"
     ]
    }
   ],
   "source": [
    "# Extract x, y coordinates, wavelength, and intensity\n",
    "x_coordinates = data['#X']\n",
    "y_coordinates = data['#Y']\n",
    "wavelengths = data['#Wave']\n",
    "intensities = data['#Intensity']\n",
    "\n",
    "# Create a grid plot\n",
    "fig, ax = plt.subplots()\n",
    "\n",
    "# Plot the grid points\n",
    "ax.scatter(x_coordinates, y_coordinates)\n",
    "\n",
    "# Function to handle mouse click events\n",
    "def on_click(event):\n",
    "    if event.inaxes is not None:\n",
    "        # Retrieve the clicked point coordinates\n",
    "        x = 5*(round(event.xdata/5))\n",
    "        y = 5*(round(event.ydata/5))\n",
    "        \n",
    "        # Filter the data for the clicked point\n",
    "        mask = (x_coordinates == x) & (y_coordinates == y)\n",
    "        point_wavelengths = np.array(wavelengths[mask])\n",
    "        point_intensities = np.array(intensities[mask])\n",
    "        \n",
    "        # Create a new figure for the spectrum plot\n",
    "        fig_spectrum, ax_spectrum = plt.subplots()\n",
    "        \n",
    "        # Plot the spectrum\n",
    "        process_raman_data(point_wavelengths, point_intensities, fig_spectrum, ax_spectrum)\n",
    "        \n",
    "        # Show the spectrum plot\n",
    "        plt.show()\n",
    "\n",
    "\n",
    "# Connect the click event to the function\n",
    "fig.canvas.mpl_connect('button_press_event', on_click)\n",
    "\n",
    "plt.show()\n"
   ]
  },
  {
   "cell_type": "code",
   "execution_count": null,
   "metadata": {},
   "outputs": [],
   "source": []
  },
  {
   "cell_type": "code",
   "execution_count": null,
   "metadata": {},
   "outputs": [],
   "source": []
  }
 ],
 "metadata": {
  "kernelspec": {
   "display_name": ".venv",
   "language": "python",
   "name": "python3"
  },
  "language_info": {
   "codemirror_mode": {
    "name": "ipython",
    "version": 3
   },
   "file_extension": ".py",
   "mimetype": "text/x-python",
   "name": "python",
   "nbconvert_exporter": "python",
   "pygments_lexer": "ipython3",
   "version": "3.11.2"
  },
  "orig_nbformat": 4
 },
 "nbformat": 4,
 "nbformat_minor": 2
}
