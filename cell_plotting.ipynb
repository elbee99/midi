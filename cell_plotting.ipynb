{
 "cells": [
  {
   "attachments": {},
   "cell_type": "markdown",
   "metadata": {},
   "source": [
    "## Code for plotting the Excel data exported from the Li-air Arbin cycler"
   ]
  },
  {
   "cell_type": "code",
   "execution_count": null,
   "metadata": {},
   "outputs": [],
   "source": [
    "import pandas as pd\n",
    "import numpy as np\n",
    "import matplotlib.pyplot as plt\n",
    "import string\n"
   ]
  },
  {
   "cell_type": "code",
   "execution_count": null,
   "metadata": {},
   "outputs": [],
   "source": [
    "file_path = r\"C:\\Users\\lb958\\OneDrive - University of Cambridge\\Data\\Midi\\Cell\\lb958_CNTS_1625_23523\\Channel_19\\lb958_CNTS_1497_23523lb958_CNTS_1625_23523_Channel_19.xlsx\"\n",
    "file_name = string.split(file_path, '\\\\')[-1]\n"
   ]
  }
 ],
 "metadata": {
  "language_info": {
   "name": "python"
  },
  "orig_nbformat": 4
 },
 "nbformat": 4,
 "nbformat_minor": 2
}
